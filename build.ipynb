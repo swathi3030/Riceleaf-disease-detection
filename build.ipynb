{
 "cells": [
  {
   "cell_type": "code",
   "execution_count": 34,
   "id": "e6d19209",
   "metadata": {},
   "outputs": [],
   "source": [
    "from keras.layers import Conv2D,Flatten,Dense,MaxPooling2D\n",
    "from os import listdir\n",
    "#from keras.utils import img_to_array\n",
    "import cv2\n",
    "from PIL import Image\n",
    "from tensorflow.keras.preprocessing.image import load_img\n",
    "from tensorflow.keras.preprocessing.image import img_to_array, ImageDataGenerator\n",
    "\n",
    "from sklearn.model_selection import train_test_split\n",
    "import numpy as np\n",
    "\n",
    "# set random seed\n",
    "np.random.seed(42)\n",
    "\n",
    "# root folder\n",
    "root_dir=\"C:\\\\Users\\\\user\\\\PycharmProjects\\\\pythonProject\\\\datasets\\\\new\""
   ]
  },
  {
   "cell_type": "code",
   "execution_count": 35,
   "id": "9ec090c7",
   "metadata": {},
   "outputs": [],
   "source": [
    "import numpy as np\n",
    "\n",
    "# Assuming arr is your array of size 150528\n",
    "arr = np.random.rand(150528)\n",
    "\n",
    "# Reshape it to a shape that matches its size\n",
    "new_shape = (224, 224, 3)  # Or any other shape that multiplies to 150528\n",
    "reshaped_arr = arr.reshape(new_shape)\n"
   ]
  },
  {
   "cell_type": "code",
   "execution_count": 36,
   "id": "0a0f50ce",
   "metadata": {},
   "outputs": [],
   "source": [
    "def convert_img_to_tensor(fpath):\n",
    "    #read image\n",
    "    img = cv2.imread(fpath)\n",
    "    img = cv2.resize(img,(256,256))\n",
    "    \n",
    "    #converts image to array\n",
    "    res = img_to_array(img)\n",
    "    \n",
    "    return res\n",
    "\n",
    "def get_img_data_and_label(root_dir):\n",
    "    dire=listdir(root_dir)\n",
    "    \n",
    "    image_dataset=[]\n",
    "    image_label=[]\n",
    "    classes=[]\n",
    "    \n",
    "    binary_label=[]\n",
    "    i=0\n",
    "    \n",
    "    for subdir in dire:\n",
    "        binary_label.append(i)\n",
    "        classes.append(subdir)\n",
    "        i+=1\n",
    "        \n",
    "    index=0\n",
    "    \n",
    "    for subdir in dire:\n",
    "        skin_img_list=listdir(f\"{root_dir}/{subdir}\")\n",
    "        \n",
    "        for imgfile in skin_img_list:\n",
    "            \n",
    "            filepath=f\"{root_dir}/{subdir}/{imgfile}\"\n",
    "            #convert image to array\n",
    "            res=convert_img_to_tensor(filepath)\n",
    "            #add data to dataset list\n",
    "            image_dataset.append(res)\n",
    "            image_label.append(binary_label[index])\n",
    "            \n",
    "        index+=1\n",
    "        \n",
    "    return image_dataset,image_label,len(binary_label),classes"
   ]
  },
  {
   "cell_type": "code",
   "execution_count": 4,
   "id": "1c19e1d6",
   "metadata": {},
   "outputs": [],
   "source": [
    "\n",
    "image_dataset,image_labels,NoOfOutputLayer,classes = get_img_data_and_label(root_dir)"
   ]
  },
  {
   "cell_type": "code",
   "execution_count": 37,
   "id": "a092f759",
   "metadata": {},
   "outputs": [
    {
     "name": "stdout",
     "output_type": "stream",
     "text": [
      "3\n",
      "1353\n",
      "1353\n",
      "(256, 256, 3)\n",
      "['brown spot', 'healthy', 'leaf scald']\n"
     ]
    }
   ],
   "source": [
    "print(NoOfOutputLayer)\n",
    "print(len(image_labels))\n",
    "print(len(image_dataset))\n",
    "print(image_dataset[0].shape)\n",
    "print(classes)"
   ]
  },
  {
   "cell_type": "code",
   "execution_count": 38,
   "id": "002710c9",
   "metadata": {},
   "outputs": [],
   "source": [
    "import os\n",
    "import cv2\n",
    "import numpy as np\n",
    "import tensorflow as tf\n",
    "from tensorflow.keras.preprocessing.image import img_to_array, ImageDataGenerator\n",
    "from tensorflow.keras.models import Sequential\n",
    "from tensorflow.keras.layers import Dense, Conv2D, Flatten\n",
    "from tensorflow.keras.optimizers import Adam\n",
    "from tensorflow.keras.utils import to_categorical\n",
    "from sklearn.model_selection import train_test_split\n"
   ]
  },
  {
   "cell_type": "code",
   "execution_count": 39,
   "id": "23dbac95",
   "metadata": {},
   "outputs": [
    {
     "name": "stdout",
     "output_type": "stream",
     "text": [
      "(1082, 256, 256, 3)\n",
      "(1082, 3)\n"
     ]
    }
   ],
   "source": [
    "xtrain,xtest,ytrain,ytest=train_test_split(image_dataset,image_labels,test_size=0.2,random_state=100)\n",
    "from tensorflow.keras.utils import to_categorical\n",
    "#from keras.utils import to_categorical\n",
    "ytrain=to_categorical(ytrain)\n",
    "ytest=to_categorical(ytest)\n",
    "\n",
    "\n",
    "\n",
    "xtrain = np.array(xtrain, dtype=np.float16)/ 255.0\n",
    "xtrain = xtrain.reshape(-1,256,256,3)\n",
    "xtest = np.array(xtest, dtype=np.float16)/ 255.0\n",
    "xtest = xtest.reshape(-1,256,256,3)\n",
    "\n",
    "\n",
    "print(xtrain.shape)\n",
    "print(ytrain.shape)\n"
   ]
  },
  {
   "cell_type": "code",
   "execution_count": 40,
   "id": "fe13248c",
   "metadata": {},
   "outputs": [
    {
     "data": {
      "image/png": "[encoded data removed]",
      "text/plain": [
       "<Figure size 640x480 with 1 Axes>"
      ]
     },
     "metadata": {},
     "output_type": "display_data"
    }
   ],
   "source": [
    "import matplotlib.pyplot as plt\n",
    "RATIO_LIST = []\n",
    "for set in (xtrain,xtest):\n",
    "    for img in set:\n",
    "        RATIO_LIST.append(img.shape[1]/img.shape[0])\n",
    "        \n",
    "plt.hist(RATIO_LIST)\n",
    "plt.title('Distribution of Image Ratios')\n",
    "plt.xlabel('Ratio Value')\n",
    "plt.ylabel('Count')\n",
    "plt.show()"
   ]
  },
  {
   "cell_type": "code",
   "execution_count": 42,
   "id": "ab6ab214",
   "metadata": {},
   "outputs": [
    {
     "data": {
      "application/vnd.plotly.v1+json": {
       "config": {
        "linkText": "Export to plot.ly",
        "plotlyServerURL": "https://plot.ly",
        "showLink": false
       },
       "data": [
        {
         "name": "brown spot",
         "opacity": 0.7,
         "type": "bar",
         "x": [
          "Train Set",
          "Test Set"
         ],
         "y": [
          2164,
          542
         ]
        },
        {
         "name": "healthy",
         "opacity": 0.7,
         "type": "bar",
         "x": [
          "Train Set",
          "Test Set"
         ],
         "y": [
          2164,
          542
         ]
        },
        {
         "name": "leaf scald",
         "opacity": 0.7,
         "type": "bar",
         "x": [
          "Train Set",
          "Test Set"
         ],
         "y": [
          2164,
          542
         ]
        }
       ],
       "layout": {
        "template": {
         "data": {
          "bar": [
           {
            "error_x": {
             "color": "#2a3f5f"
            },
            "error_y": {
             "color": "#2a3f5f"
            },
            "marker": {
             "line": {
              "color": "#E5ECF6",
              "width": 0.5
             },
             "pattern": {
              "fillmode": "overlay",
              "size": 10,
              "solidity": 0.2
             }
            },
            "type": "bar"
           }
          ],
          "barpolar": [
           {
            "marker": {
             "line": {
              "color": "#E5ECF6",
              "width": 0.5
             },
             "pattern": {
              "fillmode": "overlay",
              "size": 10,
              "solidity": 0.2
             }
            },
            "type": "barpolar"
           }
          ],
          "carpet": [
           {
            "aaxis": {
             "endlinecolor": "#2a3f5f",
             "gridcolor": "white",
             "linecolor": "white",
             "minorgridcolor": "white",
             "startlinecolor": "#2a3f5f"
            },
            "baxis": {
             "endlinecolor": "#2a3f5f",
             "gridcolor": "white",
             "linecolor": "white",
             "minorgridcolor": "white",
             "startlinecolor": "#2a3f5f"
            },
            "type": "carpet"
           }
          ],
          "choropleth": [
           {
            "colorbar": {
             "outlinewidth": 0,
             "ticks": ""
            },
            "type": "choropleth"
           }
          ],
          "contour": [
           {
            "colorbar": {
             "outlinewidth": 0,
             "ticks": ""
            },
            "colorscale": [
             [
              0,
              "#0d0887"
             ],
             [
              0.1111111111111111,
              "#46039f"
             ],
             [
              0.2222222222222222,
              "#7201a8"
             ],
             [
              0.3333333333333333,
              "#9c179e"
             ],
             [
              0.4444444444444444,
              "#bd3786"
             ],
             [
              0.5555555555555556,
              "#d8576b"
             ],
             [
              0.6666666666666666,
              "#ed7953"
             ],
             [
              0.7777777777777778,
              "#fb9f3a"
             ],
             [
              0.8888888888888888,
              "#fdca26"
             ],
             [
              1,
              "#f0f921"
             ]
            ],
            "type": "contour"
           }
          ],
          "contourcarpet": [
           {
            "colorbar": {
             "outlinewidth": 0,
             "ticks": ""
            },
            "type": "contourcarpet"
           }
          ],
          "heatmap": [
           {
            "colorbar": {
             "outlinewidth": 0,
             "ticks": ""
            },
            "colorscale": [
             [
              0,
              "#0d0887"
             ],
             [
              0.1111111111111111,
              "#46039f"
             ],
             [
              0.2222222222222222,
              "#7201a8"
             ],
             [
              0.3333333333333333,
              "#9c179e"
             ],
             [
              0.4444444444444444,
              "#bd3786"
             ],
             [
              0.5555555555555556,
              "#d8576b"
             ],
             [
              0.6666666666666666,
              "#ed7953"
             ],
             [
              0.7777777777777778,
              "#fb9f3a"
             ],
             [
              0.8888888888888888,
              "#fdca26"
             ],
             [
              1,
              "#f0f921"
             ]
            ],
            "type": "heatmap"
           }
          ],
          "heatmapgl": [
           {
            "colorbar": {
             "outlinewidth": 0,
             "ticks": ""
            },
            "colorscale": [
             [
              0,
              "#0d0887"
             ],
             [
              0.1111111111111111,
              "#46039f"
             ],
             [
              0.2222222222222222,
              "#7201a8"
             ],
             [
              0.3333333333333333,
              "#9c179e"
             ],
             [
              0.4444444444444444,
              "#bd3786"
             ],
             [
              0.5555555555555556,
              "#d8576b"
             ],
             [
              0.6666666666666666,
              "#ed7953"
             ],
             [
              0.7777777777777778,
              "#fb9f3a"
             ],
             [
              0.8888888888888888,
              "#fdca26"
             ],
             [
              1,
              "#f0f921"
             ]
            ],
            "type": "heatmapgl"
           }
          ],
          "histogram": [
           {
            "marker": {
             "pattern": {
              "fillmode": "overlay",
              "size": 10,
              "solidity": 0.2
             }
            },
            "type": "histogram"
           }
          ],
          "histogram2d": [
           {
            "colorbar": {
             "outlinewidth": 0,
             "ticks": ""
            },
            "colorscale": [
             [
              0,
              "#0d0887"
             ],
             [
              0.1111111111111111,
              "#46039f"
             ],
             [
              0.2222222222222222,
              "#7201a8"
             ],
             [
              0.3333333333333333,
              "#9c179e"
             ],
             [
              0.4444444444444444,
              "#bd3786"
             ],
             [
              0.5555555555555556,
              "#d8576b"
             ],
             [
              0.6666666666666666,
              "#ed7953"
             ],
             [
              0.7777777777777778,
              "#fb9f3a"
             ],
             [
              0.8888888888888888,
              "#fdca26"
             ],
             [
              1,
              "#f0f921"
             ]
            ],
            "type": "histogram2d"
           }
          ],
          "histogram2dcontour": [
           {
            "colorbar": {
             "outlinewidth": 0,
             "ticks": ""
            },
            "colorscale": [
             [
              0,
              "#0d0887"
             ],
             [
              0.1111111111111111,
              "#46039f"
             ],
             [
              0.2222222222222222,
              "#7201a8"
             ],
             [
              0.3333333333333333,
              "#9c179e"
             ],
             [
              0.4444444444444444,
              "#bd3786"
             ],
             [
              0.5555555555555556,
              "#d8576b"
             ],
             [
              0.6666666666666666,
              "#ed7953"
             ],
             [
              0.7777777777777778,
              "#fb9f3a"
             ],
             [
              0.8888888888888888,
              "#fdca26"
             ],
             [
              1,
              "#f0f921"
             ]
            ],
            "type": "histogram2dcontour"
           }
          ],
          "mesh3d": [
           {
            "colorbar": {
             "outlinewidth": 0,
             "ticks": ""
            },
            "type": "mesh3d"
           }
          ],
          "parcoords": [
           {
            "line": {
             "colorbar": {
              "outlinewidth": 0,
              "ticks": ""
             }
            },
            "type": "parcoords"
           }
          ],
          "pie": [
           {
            "automargin": true,
            "type": "pie"
           }
          ],
          "scatter": [
           {
            "fillpattern": {
             "fillmode": "overlay",
             "size": 10,
             "solidity": 0.2
            },
            "type": "scatter"
           }
          ],
          "scatter3d": [
           {
            "line": {
             "colorbar": {
              "outlinewidth": 0,
              "ticks": ""
             }
            },
            "marker": {
             "colorbar": {
              "outlinewidth": 0,
              "ticks": ""
             }
            },
            "type": "scatter3d"
           }
          ],
          "scattercarpet": [
           {
            "marker": {
             "colorbar": {
              "outlinewidth": 0,
              "ticks": ""
             }
            },
            "type": "scattercarpet"
           }
          ],
          "scattergeo": [
           {
            "marker": {
             "colorbar": {
              "outlinewidth": 0,
              "ticks": ""
             }
            },
            "type": "scattergeo"
           }
          ],
          "scattergl": [
           {
            "marker": {
             "colorbar": {
              "outlinewidth": 0,
              "ticks": ""
             }
            },
            "type": "scattergl"
           }
          ],
          "scattermapbox": [
           {
            "marker": {
             "colorbar": {
              "outlinewidth": 0,
              "ticks": ""
             }
            },
            "type": "scattermapbox"
           }
          ],
          "scatterpolar": [
           {
            "marker": {
             "colorbar": {
              "outlinewidth": 0,
              "ticks": ""
             }
            },
            "type": "scatterpolar"
           }
          ],
          "scatterpolargl": [
           {
            "marker": {
             "colorbar": {
              "outlinewidth": 0,
              "ticks": ""
             }
            },
            "type": "scatterpolargl"
           }
          ],
          "scatterternary": [
           {
            "marker": {
             "colorbar": {
              "outlinewidth": 0,
              "ticks": ""
             }
            },
            "type": "scatterternary"
           }
          ],
          "surface": [
           {
            "colorbar": {
             "outlinewidth": 0,
             "ticks": ""
            },
            "colorscale": [
             [
              0,
              "#0d0887"
             ],
             [
              0.1111111111111111,
              "#46039f"
             ],
             [
              0.2222222222222222,
              "#7201a8"
             ],
             [
              0.3333333333333333,
              "#9c179e"
             ],
             [
              0.4444444444444444,
              "#bd3786"
             ],
             [
              0.5555555555555556,
              "#d8576b"
             ],
             [
              0.6666666666666666,
              "#ed7953"
             ],
             [
              0.7777777777777778,
              "#fb9f3a"
             ],
             [
              0.8888888888888888,
              "#fdca26"
             ],
             [
              1,
              "#f0f921"
             ]
            ],
            "type": "surface"
           }
          ],
          "table": [
           {
            "cells": {
             "fill": {
              "color": "#EBF0F8"
             },
             "line": {
              "color": "white"
             }
            },
            "header": {
             "fill": {
              "color": "#C8D4E3"
             },
             "line": {
              "color": "white"
             }
            },
            "type": "table"
           }
          ]
         },
         "layout": {
          "annotationdefaults": {
           "arrowcolor": "#2a3f5f",
           "arrowhead": 0,
           "arrowwidth": 1
          },
          "autotypenumbers": "strict",
          "coloraxis": {
           "colorbar": {
            "outlinewidth": 0,
            "ticks": ""
           }
          },
          "colorscale": {
           "diverging": [
            [
             0,
             "#8e0152"
            ],
            [
             0.1,
             "#c51b7d"
            ],
            [
             0.2,
             "#de77ae"
            ],
            [
             0.3,
             "#f1b6da"
            ],
            [
             0.4,
             "#fde0ef"
            ],
            [
             0.5,
             "#f7f7f7"
            ],
            [
             0.6,
             "#e6f5d0"
            ],
            [
             0.7,
             "#b8e186"
            ],
            [
             0.8,
             "#7fbc41"
            ],
            [
             0.9,
             "#4d9221"
            ],
            [
             1,
             "#276419"
            ]
           ],
           "sequential": [
            [
             0,
             "#0d0887"
            ],
            [
             0.1111111111111111,
             "#46039f"
            ],
            [
             0.2222222222222222,
             "#7201a8"
            ],
            [
             0.3333333333333333,
             "#9c179e"
            ],
            [
             0.4444444444444444,
             "#bd3786"
            ],
            [
             0.5555555555555556,
             "#d8576b"
            ],
            [
             0.6666666666666666,
             "#ed7953"
            ],
            [
             0.7777777777777778,
             "#fb9f3a"
            ],
            [
             0.8888888888888888,
             "#fdca26"
            ],
            [
             1,
             "#f0f921"
            ]
           ],
           "sequentialminus": [
            [
             0,
             "#0d0887"
            ],
            [
             0.1111111111111111,
             "#46039f"
            ],
            [
             0.2222222222222222,
             "#7201a8"
            ],
            [
             0.3333333333333333,
             "#9c179e"
            ],
            [
             0.4444444444444444,
             "#bd3786"
            ],
            [
             0.5555555555555556,
             "#d8576b"
            ],
            [
             0.6666666666666666,
             "#ed7953"
            ],
            [
             0.7777777777777778,
             "#fb9f3a"
            ],
            [
             0.8888888888888888,
             "#fdca26"
            ],
            [
             1,
             "#f0f921"
            ]
           ]
          },
          "colorway": [
           "#636efa",
           "#EF553B",
           "#00cc96",
           "#ab63fa",
           "#FFA15A",
           "#19d3f3",
           "#FF6692",
           "#B6E880",
           "#FF97FF",
           "#FECB52"
          ],
          "font": {
           "color": "#2a3f5f"
          },
          "geo": {
           "bgcolor": "white",
           "lakecolor": "white",
           "landcolor": "#E5ECF6",
           "showlakes": true,
           "showland": true,
           "subunitcolor": "white"
          },
          "hoverlabel": {
           "align": "left"
          },
          "hovermode": "closest",
          "mapbox": {
           "style": "light"
          },
          "paper_bgcolor": "white",
          "plot_bgcolor": "#E5ECF6",
          "polar": {
           "angularaxis": {
            "gridcolor": "white",
            "linecolor": "white",
            "ticks": ""
           },
           "bgcolor": "#E5ECF6",
           "radialaxis": {
            "gridcolor": "white",
            "linecolor": "white",
            "ticks": ""
           }
          },
          "scene": {
           "xaxis": {
            "backgroundcolor": "#E5ECF6",
            "gridcolor": "white",
            "gridwidth": 2,
            "linecolor": "white",
            "showbackground": true,
            "ticks": "",
            "zerolinecolor": "white"
           },
           "yaxis": {
            "backgroundcolor": "#E5ECF6",
            "gridcolor": "white",
            "gridwidth": 2,
            "linecolor": "white",
            "showbackground": true,
            "ticks": "",
            "zerolinecolor": "white"
           },
           "zaxis": {
            "backgroundcolor": "#E5ECF6",
            "gridcolor": "white",
            "gridwidth": 2,
            "linecolor": "white",
            "showbackground": true,
            "ticks": "",
            "zerolinecolor": "white"
           }
          },
          "shapedefaults": {
           "line": {
            "color": "#2a3f5f"
           }
          },
          "ternary": {
           "aaxis": {
            "gridcolor": "white",
            "linecolor": "white",
            "ticks": ""
           },
           "baxis": {
            "gridcolor": "white",
            "linecolor": "white",
            "ticks": ""
           },
           "bgcolor": "#E5ECF6",
           "caxis": {
            "gridcolor": "white",
            "linecolor": "white",
            "ticks": ""
           }
          },
          "title": {
           "x": 0.05
          },
          "xaxis": {
           "automargin": true,
           "gridcolor": "white",
           "linecolor": "white",
           "ticks": "",
           "title": {
            "standoff": 15
           },
           "zerolinecolor": "white",
           "zerolinewidth": 2
          },
          "yaxis": {
           "automargin": true,
           "gridcolor": "white",
           "linecolor": "white",
           "ticks": "",
           "title": {
            "standoff": 15
           },
           "zerolinecolor": "white",
           "zerolinewidth": 2
          }
         }
        },
        "title": {
         "text": "Count of classes in each set"
        },
        "xaxis": {
         "title": {
          "text": "Set"
         }
        },
        "yaxis": {
         "title": {
          "text": "Count"
         }
        }
       }
      }
     },
     "metadata": {},
     "output_type": "display_data"
    }
   ],
   "source": [
    "import plotly.graph_objs as go\n",
    "from plotly.offline import init_notebook_mode, iplot\n",
    "y = dict()\n",
    "y[0] = []\n",
    "y[1] = []\n",
    "\n",
    "for set_name in (ytrain,ytest):\n",
    "    y[0].append(np.sum(set_name == 0))\n",
    "    y[1].append(np.sum(set_name == 1))\n",
    "\n",
    "\n",
    "Data=[]\n",
    "for cls in classes:\n",
    "    cls= go.Bar(\n",
    "    x=['Train Set',  'Test Set'],\n",
    "    y=y[0],\n",
    "    name=cls,\n",
    "    marker=dict(),\n",
    "    opacity=0.7)\n",
    "    Data.append(cls)\n",
    "\n",
    "layout = go.Layout(\n",
    "    title='Count of classes in each set',\n",
    "    xaxis={'title': 'Set'},\n",
    "    yaxis={'title': 'Count'}\n",
    ")\n",
    "fig = go.Figure(Data, layout)\n",
    "iplot(fig)"
   ]
  },
  {
   "cell_type": "code",
   "execution_count": 43,
   "id": "f3e91ed9",
   "metadata": {},
   "outputs": [],
   "source": [
    "from keras.models import Sequential\n",
    "\n",
    "model = Sequential()\n",
    "\n",
    "model.add(Conv2D(32,(3,3), activation = 'relu' , input_shape = (256,256,3)))\n",
    "model.add(MaxPooling2D((2,2)))\n",
    "\n",
    "model.add(Conv2D(32,(3,3), activation = 'relu'))\n",
    "model.add(MaxPooling2D((2,2)))\n",
    "\n",
    "model.add(Flatten())\n",
    "model.add(Dense(64, activation = 'relu'))\n",
    "model.add(Dense(NoOfOutputLayer, activation = 'sigmoid'))\n",
    "\n",
    "model.compile(loss = 'binary_crossentropy', optimizer = 'adam' , metrics = ['accuracy'])"
   ]
  },
  {
   "cell_type": "code",
   "execution_count": 44,
   "id": "85d8becb",
   "metadata": {},
   "outputs": [
    {
     "name": "stdout",
     "output_type": "stream",
     "text": [
      "1082 1082\n",
      "271 271\n"
     ]
    }
   ],
   "source": [
    "print(len(xtrain),len(ytrain))\n",
    "print(len(xtest),len(ytest))"
   ]
  },
  {
   "cell_type": "code",
   "execution_count": 45,
   "id": "c908dcb6",
   "metadata": {},
   "outputs": [
    {
     "name": "stdout",
     "output_type": "stream",
     "text": [
      "Epoch 1/15\n",
      "34/34 [==============================] - 33s 832ms/step - loss: 0.3941 - accuracy: 0.7782 - val_loss: 0.1896 - val_accuracy: 0.8708\n",
      "Epoch 2/15\n",
      "34/34 [==============================] - 26s 768ms/step - loss: 0.0694 - accuracy: 0.9750 - val_loss: 0.0313 - val_accuracy: 0.9889\n",
      "Epoch 3/15\n",
      "34/34 [==============================] - 27s 784ms/step - loss: 0.0168 - accuracy: 0.9908 - val_loss: 0.0142 - val_accuracy: 1.0000\n",
      "Epoch 4/15\n",
      "34/34 [==============================] - 26s 752ms/step - loss: 0.0056 - accuracy: 0.9991 - val_loss: 0.0081 - val_accuracy: 1.0000\n",
      "Epoch 5/15\n",
      "34/34 [==============================] - 26s 773ms/step - loss: 0.0023 - accuracy: 1.0000 - val_loss: 0.0051 - val_accuracy: 1.0000\n",
      "Epoch 6/15\n",
      "34/34 [==============================] - 26s 754ms/step - loss: 0.0016 - accuracy: 1.0000 - val_loss: 0.0036 - val_accuracy: 1.0000\n",
      "Epoch 7/15\n",
      "34/34 [==============================] - 26s 753ms/step - loss: 0.0010 - accuracy: 1.0000 - val_loss: 0.0110 - val_accuracy: 0.9889\n",
      "Epoch 8/15\n",
      "34/34 [==============================] - 26s 757ms/step - loss: 9.6962e-04 - accuracy: 1.0000 - val_loss: 0.0112 - val_accuracy: 0.9889\n",
      "Epoch 9/15\n",
      "34/34 [==============================] - 25s 746ms/step - loss: 8.7505e-04 - accuracy: 1.0000 - val_loss: 0.0036 - val_accuracy: 1.0000\n",
      "Epoch 10/15\n",
      "34/34 [==============================] - 26s 753ms/step - loss: 2.6082e-04 - accuracy: 1.0000 - val_loss: 0.0076 - val_accuracy: 0.9889\n",
      "Epoch 11/15\n",
      "34/34 [==============================] - 26s 755ms/step - loss: 7.5211e-05 - accuracy: 1.0000 - val_loss: 0.0055 - val_accuracy: 0.9963\n",
      "Epoch 12/15\n",
      "34/34 [==============================] - 26s 754ms/step - loss: 5.7310e-05 - accuracy: 1.0000 - val_loss: 0.0049 - val_accuracy: 0.9963\n",
      "Epoch 13/15\n",
      "34/34 [==============================] - 26s 757ms/step - loss: 4.7366e-05 - accuracy: 1.0000 - val_loss: 0.0050 - val_accuracy: 0.9963\n",
      "Epoch 14/15\n",
      "34/34 [==============================] - 26s 768ms/step - loss: 4.0858e-05 - accuracy: 1.0000 - val_loss: 0.0050 - val_accuracy: 0.9963\n",
      "Epoch 15/15\n",
      "34/34 [==============================] - 25s 745ms/step - loss: 3.5815e-05 - accuracy: 1.0000 - val_loss: 0.0050 - val_accuracy: 0.9963\n"
     ]
    }
   ],
   "source": [
    "model1=model.fit(xtrain,ytrain,epochs=15,validation_data=(xtest,ytest) , batch_size=32,verbose=1,shuffle=False)"
   ]
  },
  {
   "cell_type": "code",
   "execution_count": 56,
   "id": "ca218d86",
   "metadata": {},
   "outputs": [
    {
     "name": "stdout",
     "output_type": "stream",
     "text": [
      "Model: \"sequential_4\"\n",
      "_________________________________________________________________\n",
      " Layer (type)                Output Shape              Param #   \n",
      "=================================================================\n",
      " conv2d_8 (Conv2D)           (None, 254, 254, 32)      896       \n",
      "                                                                 \n",
      " max_pooling2d_8 (MaxPooling  (None, 127, 127, 32)     0         \n",
      " 2D)                                                             \n",
      "                                                                 \n",
      " conv2d_9 (Conv2D)           (None, 125, 125, 32)      9248      \n",
      "                                                                 \n",
      " max_pooling2d_9 (MaxPooling  (None, 62, 62, 32)       0         \n",
      " 2D)                                                             \n",
      "                                                                 \n",
      " flatten_4 (Flatten)         (None, 123008)            0         \n",
      "                                                                 \n",
      " dense_8 (Dense)             (None, 64)                7872576   \n",
      "                                                                 \n",
      " dense_9 (Dense)             (None, 3)                 195       \n",
      "                                                                 \n",
      "=================================================================\n",
      "Total params: 7,882,915\n",
      "Trainable params: 7,882,915\n",
      "Non-trainable params: 0\n",
      "_________________________________________________________________\n"
     ]
    }
   ],
   "source": [
    "model.summary()"
   ]
  },
  {
   "cell_type": "code",
   "execution_count": 67,
   "id": "b365abab",
   "metadata": {},
   "outputs": [],
   "source": [
    "from tensorflow.keras.models import Sequential\n",
    "from tensorflow.keras.layers import Conv2D, MaxPooling2D, Flatten, Dense\n",
    "\n",
    "# Example model\n",
    "model = Sequential([\n",
    "    Conv2D(32, (3, 3), activation='relu', input_shape=(224, 224, 3)),\n",
    "    MaxPooling2D((2, 2)),\n",
    "    Conv2D(64, (3, 3), activation='relu'),\n",
    "    MaxPooling2D((2, 2)),\n",
    "    Flatten(),\n",
    "    Dense(64, activation='relu'),\n",
    "    Dense(10, activation='softmax')\n",
    "])\n",
    "\n",
    "# Compile the model\n",
    "model.compile(optimizer='adam',\n",
    "              loss='sparse_categorical_crossentropy',\n",
    "              metrics=['accuracy'])\n",
    "\n",
    "# Now the model expects (224, 224, 3) input\n"
   ]
  },
  {
   "cell_type": "code",
   "execution_count": 68,
   "id": "86e79a9e",
   "metadata": {},
   "outputs": [],
   "source": [
    "model.save(\"finalcnn.h5\")\n"
   ]
  },
  {
   "cell_type": "code",
   "execution_count": 66,
   "id": "c3dd38d1",
   "metadata": {},
   "outputs": [],
   "source": [
    "from tensorflow.keras.models import Sequential\n",
    "from tensorflow.keras.layers import Conv2D, MaxPooling2D, Flatten, Dense\n",
    "\n",
    "# Example model\n",
    "model = Sequential([\n",
    "    Conv2D(32, (3, 3), activation='relu', input_shape=(224, 224, 3)),\n",
    "    MaxPooling2D((2, 2)),\n",
    "    Conv2D(64, (3, 3), activation='relu'),\n",
    "    MaxPooling2D((2, 2)),\n",
    "    Flatten(),\n",
    "    Dense(64, activation='relu'),\n",
    "    Dense(10, activation='softmax')\n",
    "])\n",
    "\n",
    "# Compile the model\n",
    "model.compile(optimizer='adam',\n",
    "              loss='sparse_categorical_crossentropy',\n",
    "              metrics=['accuracy'])\n",
    "\n",
    "# Now the model expects (224, 224, 3) input\n"
   ]
  },
  {
   "cell_type": "code",
   "execution_count": 2,
   "id": "f016b6ab",
   "metadata": {},
   "outputs": [
    {
     "name": "stdout",
     "output_type": "stream",
     "text": [
      "Model: \"sequential\"\n",
      "_________________________________________________________________\n",
      " Layer (type)                Output Shape              Param #   \n",
      "=================================================================\n",
      " conv2d (Conv2D)             (None, 222, 222, 32)      896       \n",
      "                                                                 \n",
      " max_pooling2d (MaxPooling2D  (None, 111, 111, 32)     0         \n",
      " )                                                               \n",
      "                                                                 \n",
      " conv2d_1 (Conv2D)           (None, 109, 109, 64)      18496     \n",
      "                                                                 \n",
      " max_pooling2d_1 (MaxPooling  (None, 54, 54, 64)       0         \n",
      " 2D)                                                             \n",
      "                                                                 \n",
      " conv2d_2 (Conv2D)           (None, 52, 52, 128)       73856     \n",
      "                                                                 \n",
      " max_pooling2d_2 (MaxPooling  (None, 26, 26, 128)      0         \n",
      " 2D)                                                             \n",
      "                                                                 \n",
      " flatten (Flatten)           (None, 86528)             0         \n",
      "                                                                 \n",
      " dense (Dense)               (None, 128)               11075712  \n",
      "                                                                 \n",
      " dropout (Dropout)           (None, 128)               0         \n",
      "                                                                 \n",
      " dense_1 (Dense)             (None, 3)                 387       \n",
      "                                                                 \n",
      "=================================================================\n",
      "Total params: 11,169,347\n",
      "Trainable params: 11,169,347\n",
      "Non-trainable params: 0\n",
      "_________________________________________________________________\n"
     ]
    }
   ],
   "source": [
    "import tensorflow as tf\n",
    "from tensorflow.keras.models import Sequential\n",
    "from tensorflow.keras.layers import Conv2D, MaxPooling2D, Flatten, Dense, Dropout\n",
    "from tensorflow.keras.preprocessing.image import ImageDataGenerator\n",
    "\n",
    "# Define the CNN model\n",
    "def create_cnn_model(input_shape, num_classes):\n",
    "    model = Sequential([\n",
    "        Conv2D(32, (3, 3), activation='relu', input_shape=input_shape),\n",
    "        MaxPooling2D((2, 2)),\n",
    "        Conv2D(64, (3, 3), activation='relu'),\n",
    "        MaxPooling2D((2, 2)),\n",
    "        Conv2D(128, (3, 3), activation='relu'),\n",
    "        MaxPooling2D((2, 2)),\n",
    "        Flatten(),\n",
    "        Dense(128, activation='relu'),\n",
    "        Dropout(0.5),\n",
    "        Dense(num_classes, activation='softmax')\n",
    "    ])\n",
    "    model.compile(optimizer='adam', loss='categorical_crossentropy', metrics=['accuracy'])\n",
    "    return model\n",
    "\n",
    "# Parameters\n",
    "input_shape = (224, 224, 3)  # Assuming images are resized to 224x224\n",
    "num_classes = 3  # Adjust based on the number of classes in your dataset\n",
    "\n",
    "# Create the model\n",
    "model = create_cnn_model(input_shape, num_classes)\n",
    "\n",
    "# Print the model summary\n",
    "model.summary()\n"
   ]
  },
  {
   "cell_type": "code",
   "execution_count": 5,
   "id": "70db2e44",
   "metadata": {},
   "outputs": [
    {
     "name": "stdout",
     "output_type": "stream",
     "text": [
      "Found 1353 images belonging to 3 classes.\n",
      "Found 1321 images belonging to 3 classes.\n"
     ]
    }
   ],
   "source": [
    "# Data augmentation and preprocessing\n",
    "train_datagen = ImageDataGenerator(\n",
    "    rescale=1./255,\n",
    "    rotation_range=20,\n",
    "    width_shift_range=0.2,\n",
    "    height_shift_range=0.2,\n",
    "    shear_range=0.2,\n",
    "    zoom_range=0.2,\n",
    "    horizontal_flip=True,\n",
    "    fill_mode='nearest'\n",
    ")\n",
    "\n",
    "validation_datagen = ImageDataGenerator(rescale=1./255)\n",
    "\n",
    "# Load and preprocess the training and validation data\n",
    "train_generator = train_datagen.flow_from_directory(\n",
    "    'C:\\\\Users\\\\user\\\\PycharmProjects\\\\pythonProject\\\\datasets\\\\new\\\\',\n",
    "    target_size=(224, 224),\n",
    "    batch_size=32,\n",
    "    class_mode='categorical'\n",
    ")\n",
    "\n",
    "validation_generator = validation_datagen.flow_from_directory(\n",
    "    'C:\\\\Users\\\\user\\\\PycharmProjects\\\\pythonProject\\\\datasets\\\\NEW2\\\\',\n",
    "    target_size=(224, 224),\n",
    "    batch_size=32,\n",
    "    class_mode='categorical'\n",
    ")\n"
   ]
  },
  {
   "cell_type": "code",
   "execution_count": 6,
   "id": "1d6ca787",
   "metadata": {},
   "outputs": [
    {
     "name": "stdout",
     "output_type": "stream",
     "text": [
      "Epoch 1/50\n",
      "43/43 [==============================] - 58s 1s/step - loss: 1.0148 - accuracy: 0.5447 - val_loss: 1.2251 - val_accuracy: 0.3157\n",
      "Epoch 2/50\n",
      "43/43 [==============================] - 56s 1s/step - loss: 0.4677 - accuracy: 0.7598 - val_loss: 1.1843 - val_accuracy: 0.4217\n",
      "Epoch 3/50\n",
      "43/43 [==============================] - 55s 1s/step - loss: 0.4085 - accuracy: 0.7894 - val_loss: 0.8869 - val_accuracy: 0.5223\n",
      "Epoch 4/50\n",
      "43/43 [==============================] - 56s 1s/step - loss: 0.3717 - accuracy: 0.8101 - val_loss: 1.3556 - val_accuracy: 0.5708\n",
      "Epoch 5/50\n",
      "43/43 [==============================] - 58s 1s/step - loss: 0.3283 - accuracy: 0.8566 - val_loss: 1.4713 - val_accuracy: 0.5428\n",
      "Epoch 6/50\n",
      "43/43 [==============================] - 73s 2s/step - loss: 0.2239 - accuracy: 0.9106 - val_loss: 0.9403 - val_accuracy: 0.7184\n",
      "Epoch 7/50\n",
      "43/43 [==============================] - 55s 1s/step - loss: 0.1662 - accuracy: 0.9401 - val_loss: 1.5619 - val_accuracy: 0.6412\n",
      "Epoch 8/50\n",
      "43/43 [==============================] - 55s 1s/step - loss: 0.1432 - accuracy: 0.9483 - val_loss: 1.1535 - val_accuracy: 0.7002\n",
      "Epoch 9/50\n",
      "43/43 [==============================] - 55s 1s/step - loss: 0.1081 - accuracy: 0.9623 - val_loss: 1.7381 - val_accuracy: 0.6752\n",
      "Epoch 10/50\n",
      "43/43 [==============================] - 55s 1s/step - loss: 0.0888 - accuracy: 0.9660 - val_loss: 3.3449 - val_accuracy: 0.5556\n",
      "Epoch 11/50\n",
      "43/43 [==============================] - 59s 1s/step - loss: 0.0880 - accuracy: 0.9712 - val_loss: 2.4999 - val_accuracy: 0.6329\n",
      "Epoch 12/50\n",
      "43/43 [==============================] - 70s 2s/step - loss: 0.0662 - accuracy: 0.9830 - val_loss: 5.3599 - val_accuracy: 0.4943\n",
      "Epoch 13/50\n",
      "43/43 [==============================] - 55s 1s/step - loss: 0.0994 - accuracy: 0.9675 - val_loss: 1.9121 - val_accuracy: 0.7070\n",
      "Epoch 14/50\n",
      "43/43 [==============================] - 55s 1s/step - loss: 0.0462 - accuracy: 0.9852 - val_loss: 5.0920 - val_accuracy: 0.5064\n",
      "Epoch 15/50\n",
      "43/43 [==============================] - 55s 1s/step - loss: 0.0679 - accuracy: 0.9786 - val_loss: 3.9894 - val_accuracy: 0.6018\n",
      "Epoch 16/50\n",
      "43/43 [==============================] - 55s 1s/step - loss: 0.0367 - accuracy: 0.9867 - val_loss: 5.5722 - val_accuracy: 0.5254\n",
      "Epoch 17/50\n",
      "43/43 [==============================] - 74s 2s/step - loss: 0.0255 - accuracy: 0.9926 - val_loss: 10.1932 - val_accuracy: 0.4277\n",
      "Epoch 18/50\n",
      "43/43 [==============================] - 58s 1s/step - loss: 0.5692 - accuracy: 0.9335 - val_loss: 8.1038 - val_accuracy: 0.5019\n",
      "Epoch 19/50\n",
      "43/43 [==============================] - 62s 1s/step - loss: 0.2735 - accuracy: 0.9364 - val_loss: 6.9780 - val_accuracy: 0.5276\n",
      "Epoch 20/50\n",
      "43/43 [==============================] - 146s 3s/step - loss: 0.1033 - accuracy: 0.9734 - val_loss: 14.9186 - val_accuracy: 0.4671\n",
      "Epoch 21/50\n",
      "43/43 [==============================] - 58s 1s/step - loss: 0.0909 - accuracy: 0.9727 - val_loss: 9.4775 - val_accuracy: 0.4928\n",
      "Epoch 22/50\n",
      "43/43 [==============================] - 58s 1s/step - loss: 0.0283 - accuracy: 0.9897 - val_loss: 12.8636 - val_accuracy: 0.4701\n",
      "Epoch 23/50\n",
      "43/43 [==============================] - 60s 1s/step - loss: 0.0553 - accuracy: 0.9860 - val_loss: 12.3622 - val_accuracy: 0.5049\n",
      "Epoch 24/50\n",
      "43/43 [==============================] - 161s 4s/step - loss: 0.0328 - accuracy: 0.9889 - val_loss: 8.3654 - val_accuracy: 0.5337\n",
      "Epoch 25/50\n",
      "43/43 [==============================] - 58s 1s/step - loss: 0.0447 - accuracy: 0.9874 - val_loss: 6.9758 - val_accuracy: 0.5700\n",
      "Epoch 26/50\n",
      "43/43 [==============================] - 58s 1s/step - loss: 0.0398 - accuracy: 0.9882 - val_loss: 11.8944 - val_accuracy: 0.4731\n",
      "Epoch 27/50\n",
      "43/43 [==============================] - 59s 1s/step - loss: 0.0130 - accuracy: 0.9978 - val_loss: 17.3370 - val_accuracy: 0.4693\n",
      "Epoch 28/50\n",
      "43/43 [==============================] - 59s 1s/step - loss: 0.0062 - accuracy: 0.9985 - val_loss: 18.1681 - val_accuracy: 0.4830\n",
      "Epoch 29/50\n",
      "43/43 [==============================] - 59s 1s/step - loss: 0.0103 - accuracy: 0.9963 - val_loss: 17.5585 - val_accuracy: 0.5019\n",
      "Epoch 30/50\n",
      "43/43 [==============================] - 59s 1s/step - loss: 0.0369 - accuracy: 0.9904 - val_loss: 16.0577 - val_accuracy: 0.4928\n",
      "Epoch 31/50\n",
      "43/43 [==============================] - 58s 1s/step - loss: 0.0209 - accuracy: 0.9933 - val_loss: 13.8600 - val_accuracy: 0.4746\n",
      "Epoch 32/50\n",
      "43/43 [==============================] - 58s 1s/step - loss: 0.0070 - accuracy: 0.9985 - val_loss: 15.2093 - val_accuracy: 0.5026\n",
      "Epoch 33/50\n",
      "43/43 [==============================] - 58s 1s/step - loss: 0.1646 - accuracy: 0.9460 - val_loss: 2.2665 - val_accuracy: 0.5958\n",
      "Epoch 34/50\n",
      "43/43 [==============================] - 62s 1s/step - loss: 0.0673 - accuracy: 0.9837 - val_loss: 8.8264 - val_accuracy: 0.5095\n",
      "Epoch 35/50\n",
      "43/43 [==============================] - 92s 2s/step - loss: 0.0361 - accuracy: 0.9904 - val_loss: 13.3117 - val_accuracy: 0.4663\n",
      "Epoch 36/50\n",
      "43/43 [==============================] - 58s 1s/step - loss: 0.0162 - accuracy: 0.9956 - val_loss: 16.7803 - val_accuracy: 0.4989\n",
      "Epoch 37/50\n",
      "43/43 [==============================] - 58s 1s/step - loss: 0.0287 - accuracy: 0.9919 - val_loss: 8.6127 - val_accuracy: 0.5420\n",
      "Epoch 38/50\n",
      "43/43 [==============================] - 59s 1s/step - loss: 0.0333 - accuracy: 0.9889 - val_loss: 7.1600 - val_accuracy: 0.5473\n",
      "Epoch 39/50\n",
      "43/43 [==============================] - 93s 2s/step - loss: 0.0210 - accuracy: 0.9956 - val_loss: 23.7717 - val_accuracy: 0.4648\n",
      "Epoch 40/50\n",
      "43/43 [==============================] - 59s 1s/step - loss: 0.0104 - accuracy: 0.9978 - val_loss: 23.3903 - val_accuracy: 0.4701\n",
      "Epoch 41/50\n",
      "43/43 [==============================] - 58s 1s/step - loss: 0.0088 - accuracy: 0.9963 - val_loss: 17.5879 - val_accuracy: 0.4830\n",
      "Epoch 42/50\n",
      "43/43 [==============================] - 60s 1s/step - loss: 0.0218 - accuracy: 0.9933 - val_loss: 13.0370 - val_accuracy: 0.4981\n",
      "Epoch 43/50\n",
      "43/43 [==============================] - 62s 1s/step - loss: 0.0185 - accuracy: 0.9933 - val_loss: 20.2525 - val_accuracy: 0.4269\n",
      "Epoch 44/50\n",
      "43/43 [==============================] - 129s 3s/step - loss: 0.0329 - accuracy: 0.9941 - val_loss: 18.8525 - val_accuracy: 0.4807\n",
      "Epoch 45/50\n",
      "43/43 [==============================] - 58s 1s/step - loss: 0.0030 - accuracy: 1.0000 - val_loss: 24.1462 - val_accuracy: 0.4678\n",
      "Epoch 46/50\n",
      "43/43 [==============================] - 58s 1s/step - loss: 0.0079 - accuracy: 0.9970 - val_loss: 24.6363 - val_accuracy: 0.4277\n",
      "Epoch 47/50\n",
      "43/43 [==============================] - 141s 3s/step - loss: 0.0181 - accuracy: 0.9956 - val_loss: 18.0128 - val_accuracy: 0.4981\n",
      "Epoch 48/50\n",
      "43/43 [==============================] - 59s 1s/step - loss: 0.0371 - accuracy: 0.9919 - val_loss: 15.3441 - val_accuracy: 0.4640\n",
      "Epoch 49/50\n",
      "43/43 [==============================] - 59s 1s/step - loss: 0.0241 - accuracy: 0.9956 - val_loss: 16.3343 - val_accuracy: 0.4943\n",
      "Epoch 50/50\n",
      "43/43 [==============================] - 58s 1s/step - loss: 0.0386 - accuracy: 0.9933 - val_loss: 10.3188 - val_accuracy: 0.5329\n"
     ]
    }
   ],
   "source": [
    "# Train the model\n",
    "history = model.fit(\n",
    "    train_generator,\n",
    "    epochs=50,\n",
    "    validation_data=validation_generator\n",
    ")\n",
    "\n",
    "# Save the model\n",
    "model.save('finalcnn.h5')\n"
   ]
  },
  {
   "cell_type": "code",
   "execution_count": 1,
   "id": "9f954a51",
   "metadata": {},
   "outputs": [
    {
     "name": "stdout",
     "output_type": "stream",
     "text": [
      "Predicted Class: 2\n"
     ]
    }
   ],
   "source": [
    "import tensorflow as tf\n",
    "import numpy as np\n",
    "import cv2\n",
    "\n",
    "# Function to predict the class of an image\n",
    "def predict_image(image_path, model):\n",
    "    img = cv2.imread(image_path)\n",
    "    if img is None:\n",
    "        raise ValueError(f\"Image at path '{image_path}' could not be read. Check the file path and ensure the image exists.\")\n",
    "    \n",
    "    img = cv2.resize(img, (224, 224))\n",
    "    img = img.astype('float32') / 255.0\n",
    "    img = np.expand_dims(img, axis=0)\n",
    "    prediction = model.predict(img)\n",
    "    predicted_class = np.argmax(prediction)\n",
    "    return predicted_class\n",
    "\n",
    "# Load the model\n",
    "model = tf.keras.models.load_model('finalcnn.h5')\n",
    "\n",
    "# Make predictions\n",
    "try:\n",
    "    predicted_class = predict_image('C:\\\\Users\\\\user\\\\PycharmProjects\\\\pythonProject\\\\datasets\\\\NEW2\\\\healthy\\\\healthy_val (55).jpg', model)\n",
    "    print(f'Predicted Class: {predicted_class}')\n",
    "except ValueError as e:\n",
    "    print(e)\n"
   ]
  },
  {
   "cell_type": "markdown",
   "id": "0dfd0c03",
   "metadata": {},
   "source": []
  },
  {
   "cell_type": "code",
   "execution_count": 58,
   "id": "28f6347b",
   "metadata": {},
   "outputs": [],
   "source": [
    "ypred=model.predict(xtest)"
   ]
  },
  {
   "cell_type": "code",
   "execution_count": 65,
   "id": "bbf7bb72",
   "metadata": {},
   "outputs": [
    {
     "ename": "AxisError",
     "evalue": "axis 1 is out of bounds for array of dimension 1",
     "output_type": "error",
     "traceback": [
      "\u001b[1;31m---------------------------------------------------------------------------\u001b[0m",
      "\u001b[1;31mAxisError\u001b[0m                                 Traceback (most recent call last)",
      "Cell \u001b[1;32mIn[65], line 4\u001b[0m\n\u001b[0;32m      1\u001b[0m \u001b[38;5;28;01mimport\u001b[39;00m \u001b[38;5;21;01mnumpy\u001b[39;00m \u001b[38;5;28;01mas\u001b[39;00m \u001b[38;5;21;01mnp\u001b[39;00m\n\u001b[0;32m      3\u001b[0m \u001b[38;5;66;03m# Assuming ytest is your one-hot encoded labels\u001b[39;00m\n\u001b[1;32m----> 4\u001b[0m ytest_categorical \u001b[38;5;241m=\u001b[39m \u001b[43mnp\u001b[49m\u001b[38;5;241;43m.\u001b[39;49m\u001b[43margmax\u001b[49m\u001b[43m(\u001b[49m\u001b[43mytest\u001b[49m\u001b[43m,\u001b[49m\u001b[43m \u001b[49m\u001b[43maxis\u001b[49m\u001b[38;5;241;43m=\u001b[39;49m\u001b[38;5;241;43m1\u001b[39;49m\u001b[43m)\u001b[49m\n",
      "File \u001b[1;32m<__array_function__ internals>:200\u001b[0m, in \u001b[0;36margmax\u001b[1;34m(*args, **kwargs)\u001b[0m\n",
      "File \u001b[1;32mc:\\Users\\user\\PycharmProjects\\pythonProject\\projctv\\lib\\site-packages\\numpy\\core\\fromnumeric.py:1242\u001b[0m, in \u001b[0;36margmax\u001b[1;34m(a, axis, out, keepdims)\u001b[0m\n\u001b[0;32m   1155\u001b[0m \u001b[38;5;250m\u001b[39m\u001b[38;5;124;03m\"\"\"\u001b[39;00m\n\u001b[0;32m   1156\u001b[0m \u001b[38;5;124;03mReturns the indices of the maximum values along an axis.\u001b[39;00m\n\u001b[0;32m   1157\u001b[0m \n\u001b[1;32m   (...)\u001b[0m\n\u001b[0;32m   1239\u001b[0m \u001b[38;5;124;03m(2, 1, 4)\u001b[39;00m\n\u001b[0;32m   1240\u001b[0m \u001b[38;5;124;03m\"\"\"\u001b[39;00m\n\u001b[0;32m   1241\u001b[0m kwds \u001b[38;5;241m=\u001b[39m {\u001b[38;5;124m'\u001b[39m\u001b[38;5;124mkeepdims\u001b[39m\u001b[38;5;124m'\u001b[39m: keepdims} \u001b[38;5;28;01mif\u001b[39;00m keepdims \u001b[38;5;129;01mis\u001b[39;00m \u001b[38;5;129;01mnot\u001b[39;00m np\u001b[38;5;241m.\u001b[39m_NoValue \u001b[38;5;28;01melse\u001b[39;00m {}\n\u001b[1;32m-> 1242\u001b[0m \u001b[38;5;28;01mreturn\u001b[39;00m \u001b[43m_wrapfunc\u001b[49m\u001b[43m(\u001b[49m\u001b[43ma\u001b[49m\u001b[43m,\u001b[49m\u001b[43m \u001b[49m\u001b[38;5;124;43m'\u001b[39;49m\u001b[38;5;124;43margmax\u001b[39;49m\u001b[38;5;124;43m'\u001b[39;49m\u001b[43m,\u001b[49m\u001b[43m \u001b[49m\u001b[43maxis\u001b[49m\u001b[38;5;241;43m=\u001b[39;49m\u001b[43maxis\u001b[49m\u001b[43m,\u001b[49m\u001b[43m \u001b[49m\u001b[43mout\u001b[49m\u001b[38;5;241;43m=\u001b[39;49m\u001b[43mout\u001b[49m\u001b[43m,\u001b[49m\u001b[43m \u001b[49m\u001b[38;5;241;43m*\u001b[39;49m\u001b[38;5;241;43m*\u001b[39;49m\u001b[43mkwds\u001b[49m\u001b[43m)\u001b[49m\n",
      "File \u001b[1;32mc:\\Users\\user\\PycharmProjects\\pythonProject\\projctv\\lib\\site-packages\\numpy\\core\\fromnumeric.py:57\u001b[0m, in \u001b[0;36m_wrapfunc\u001b[1;34m(obj, method, *args, **kwds)\u001b[0m\n\u001b[0;32m     54\u001b[0m     \u001b[38;5;28;01mreturn\u001b[39;00m _wrapit(obj, method, \u001b[38;5;241m*\u001b[39margs, \u001b[38;5;241m*\u001b[39m\u001b[38;5;241m*\u001b[39mkwds)\n\u001b[0;32m     56\u001b[0m \u001b[38;5;28;01mtry\u001b[39;00m:\n\u001b[1;32m---> 57\u001b[0m     \u001b[38;5;28;01mreturn\u001b[39;00m \u001b[43mbound\u001b[49m\u001b[43m(\u001b[49m\u001b[38;5;241;43m*\u001b[39;49m\u001b[43margs\u001b[49m\u001b[43m,\u001b[49m\u001b[43m \u001b[49m\u001b[38;5;241;43m*\u001b[39;49m\u001b[38;5;241;43m*\u001b[39;49m\u001b[43mkwds\u001b[49m\u001b[43m)\u001b[49m\n\u001b[0;32m     58\u001b[0m \u001b[38;5;28;01mexcept\u001b[39;00m \u001b[38;5;167;01mTypeError\u001b[39;00m:\n\u001b[0;32m     59\u001b[0m     \u001b[38;5;66;03m# A TypeError occurs if the object does have such a method in its\u001b[39;00m\n\u001b[0;32m     60\u001b[0m     \u001b[38;5;66;03m# class, but its signature is not identical to that of NumPy's. This\u001b[39;00m\n\u001b[1;32m   (...)\u001b[0m\n\u001b[0;32m     64\u001b[0m     \u001b[38;5;66;03m# Call _wrapit from within the except clause to ensure a potential\u001b[39;00m\n\u001b[0;32m     65\u001b[0m     \u001b[38;5;66;03m# exception has a traceback chain.\u001b[39;00m\n\u001b[0;32m     66\u001b[0m     \u001b[38;5;28;01mreturn\u001b[39;00m _wrapit(obj, method, \u001b[38;5;241m*\u001b[39margs, \u001b[38;5;241m*\u001b[39m\u001b[38;5;241m*\u001b[39mkwds)\n",
      "\u001b[1;31mAxisError\u001b[0m: axis 1 is out of bounds for array of dimension 1"
     ]
    }
   ],
   "source": [
    "import numpy as np\n",
    "\n",
    "# Assuming ytest is your one-hot encoded labels\n",
    "ytest_categorical = np.argmax(ytest, axis=1)\n"
   ]
  },
  {
   "cell_type": "code",
   "execution_count": 53,
   "id": "40834437",
   "metadata": {},
   "outputs": [
    {
     "ename": "AxisError",
     "evalue": "axis 1 is out of bounds for array of dimension 1",
     "output_type": "error",
     "traceback": [
      "\u001b[1;31m---------------------------------------------------------------------------\u001b[0m",
      "\u001b[1;31mAxisError\u001b[0m                                 Traceback (most recent call last)",
      "Cell \u001b[1;32mIn[53], line 1\u001b[0m\n\u001b[1;32m----> 1\u001b[0m ypred\u001b[38;5;241m=\u001b[39m\u001b[43mnp\u001b[49m\u001b[38;5;241;43m.\u001b[39;49m\u001b[43margmax\u001b[49m\u001b[43m(\u001b[49m\u001b[43mypred\u001b[49m\u001b[43m,\u001b[49m\u001b[43maxis\u001b[49m\u001b[38;5;241;43m=\u001b[39;49m\u001b[38;5;241;43m1\u001b[39;49m\u001b[43m)\u001b[49m\n\u001b[0;32m      2\u001b[0m ypred\n",
      "File \u001b[1;32m<__array_function__ internals>:200\u001b[0m, in \u001b[0;36margmax\u001b[1;34m(*args, **kwargs)\u001b[0m\n",
      "File \u001b[1;32mc:\\Users\\user\\PycharmProjects\\pythonProject\\projctv\\lib\\site-packages\\numpy\\core\\fromnumeric.py:1242\u001b[0m, in \u001b[0;36margmax\u001b[1;34m(a, axis, out, keepdims)\u001b[0m\n\u001b[0;32m   1155\u001b[0m \u001b[38;5;250m\u001b[39m\u001b[38;5;124;03m\"\"\"\u001b[39;00m\n\u001b[0;32m   1156\u001b[0m \u001b[38;5;124;03mReturns the indices of the maximum values along an axis.\u001b[39;00m\n\u001b[0;32m   1157\u001b[0m \n\u001b[1;32m   (...)\u001b[0m\n\u001b[0;32m   1239\u001b[0m \u001b[38;5;124;03m(2, 1, 4)\u001b[39;00m\n\u001b[0;32m   1240\u001b[0m \u001b[38;5;124;03m\"\"\"\u001b[39;00m\n\u001b[0;32m   1241\u001b[0m kwds \u001b[38;5;241m=\u001b[39m {\u001b[38;5;124m'\u001b[39m\u001b[38;5;124mkeepdims\u001b[39m\u001b[38;5;124m'\u001b[39m: keepdims} \u001b[38;5;28;01mif\u001b[39;00m keepdims \u001b[38;5;129;01mis\u001b[39;00m \u001b[38;5;129;01mnot\u001b[39;00m np\u001b[38;5;241m.\u001b[39m_NoValue \u001b[38;5;28;01melse\u001b[39;00m {}\n\u001b[1;32m-> 1242\u001b[0m \u001b[38;5;28;01mreturn\u001b[39;00m \u001b[43m_wrapfunc\u001b[49m\u001b[43m(\u001b[49m\u001b[43ma\u001b[49m\u001b[43m,\u001b[49m\u001b[43m \u001b[49m\u001b[38;5;124;43m'\u001b[39;49m\u001b[38;5;124;43margmax\u001b[39;49m\u001b[38;5;124;43m'\u001b[39;49m\u001b[43m,\u001b[49m\u001b[43m \u001b[49m\u001b[43maxis\u001b[49m\u001b[38;5;241;43m=\u001b[39;49m\u001b[43maxis\u001b[49m\u001b[43m,\u001b[49m\u001b[43m \u001b[49m\u001b[43mout\u001b[49m\u001b[38;5;241;43m=\u001b[39;49m\u001b[43mout\u001b[49m\u001b[43m,\u001b[49m\u001b[43m \u001b[49m\u001b[38;5;241;43m*\u001b[39;49m\u001b[38;5;241;43m*\u001b[39;49m\u001b[43mkwds\u001b[49m\u001b[43m)\u001b[49m\n",
      "File \u001b[1;32mc:\\Users\\user\\PycharmProjects\\pythonProject\\projctv\\lib\\site-packages\\numpy\\core\\fromnumeric.py:57\u001b[0m, in \u001b[0;36m_wrapfunc\u001b[1;34m(obj, method, *args, **kwds)\u001b[0m\n\u001b[0;32m     54\u001b[0m     \u001b[38;5;28;01mreturn\u001b[39;00m _wrapit(obj, method, \u001b[38;5;241m*\u001b[39margs, \u001b[38;5;241m*\u001b[39m\u001b[38;5;241m*\u001b[39mkwds)\n\u001b[0;32m     56\u001b[0m \u001b[38;5;28;01mtry\u001b[39;00m:\n\u001b[1;32m---> 57\u001b[0m     \u001b[38;5;28;01mreturn\u001b[39;00m \u001b[43mbound\u001b[49m\u001b[43m(\u001b[49m\u001b[38;5;241;43m*\u001b[39;49m\u001b[43margs\u001b[49m\u001b[43m,\u001b[49m\u001b[43m \u001b[49m\u001b[38;5;241;43m*\u001b[39;49m\u001b[38;5;241;43m*\u001b[39;49m\u001b[43mkwds\u001b[49m\u001b[43m)\u001b[49m\n\u001b[0;32m     58\u001b[0m \u001b[38;5;28;01mexcept\u001b[39;00m \u001b[38;5;167;01mTypeError\u001b[39;00m:\n\u001b[0;32m     59\u001b[0m     \u001b[38;5;66;03m# A TypeError occurs if the object does have such a method in its\u001b[39;00m\n\u001b[0;32m     60\u001b[0m     \u001b[38;5;66;03m# class, but its signature is not identical to that of NumPy's. This\u001b[39;00m\n\u001b[1;32m   (...)\u001b[0m\n\u001b[0;32m     64\u001b[0m     \u001b[38;5;66;03m# Call _wrapit from within the except clause to ensure a potential\u001b[39;00m\n\u001b[0;32m     65\u001b[0m     \u001b[38;5;66;03m# exception has a traceback chain.\u001b[39;00m\n\u001b[0;32m     66\u001b[0m     \u001b[38;5;28;01mreturn\u001b[39;00m _wrapit(obj, method, \u001b[38;5;241m*\u001b[39margs, \u001b[38;5;241m*\u001b[39m\u001b[38;5;241m*\u001b[39mkwds)\n",
      "\u001b[1;31mAxisError\u001b[0m: axis 1 is out of bounds for array of dimension 1"
     ]
    }
   ],
   "source": [
    "ypred=np.argmax(ypred,axis=1)\n",
    "ypred"
   ]
  },
  {
   "cell_type": "code",
   "execution_count": 18,
   "id": "ea1198e3",
   "metadata": {},
   "outputs": [
    {
     "name": "stdout",
     "output_type": "stream",
     "text": [
      "              precision    recall  f1-score   support\n",
      "\n",
      "           0       1.00      1.00      1.00        89\n",
      "           1       1.00      1.00      1.00       100\n",
      "           2       1.00      1.00      1.00        82\n",
      "\n",
      "    accuracy                           1.00       271\n",
      "   macro avg       1.00      1.00      1.00       271\n",
      "weighted avg       1.00      1.00      1.00       271\n",
      "\n"
     ]
    }
   ],
   "source": [
    "from sklearn.metrics import classification_report\n",
    "print(classification_report(ytest, ypred))"
   ]
  },
  {
   "cell_type": "code",
   "execution_count": 19,
   "id": "099d0ac2",
   "metadata": {},
   "outputs": [],
   "source": [
    "import numpy as np\n",
    "from sklearn.metrics import confusion_matrix\n",
    "import seaborn as sns\n",
    "import matplotlib.pyplot as plt"
   ]
  },
  {
   "cell_type": "code",
   "execution_count": 21,
   "id": "1d254a8b",
   "metadata": {},
   "outputs": [
    {
     "data": {
      "image/png": "[encoded data removed]",
      "text/plain": [
       "<Figure size 640x480 with 1 Axes>"
      ]
     },
     "metadata": {},
     "output_type": "display_data"
    },
    {
     "data": {
      "image/png": "[encoded data removed]",
      "text/plain": [
       "<Figure size 640x480 with 1 Axes>"
      ]
     },
     "metadata": {},
     "output_type": "display_data"
    }
   ],
   "source": [
    "acc = model1.history['accuracy']\n",
    "val_acc = model1.history['val_accuracy']\n",
    "loss = model1.history['loss']\n",
    "val_loss = model1.history['val_loss']\n",
    "\n",
    "epochs = range(len(acc))\n",
    "\n",
    "plt.plot(epochs, acc, 'bo', label='Training accuracy')\n",
    "plt.plot(epochs, val_acc, 'b', label='Validation accuracy')\n",
    "plt.title('Training and validation accuracy')\n",
    "plt.legend()\n",
    "\n",
    "plt.figure()\n",
    "\n",
    "plt.plot(epochs, loss, 'bo', label='Training loss')\n",
    "plt.plot(epochs, val_loss, 'b', label='Validation loss')\n",
    "plt.title('Training and validation loss')\n",
    "plt.legend()\n",
    "\n",
    "plt.show()"
   ]
  },
  {
   "cell_type": "code",
   "execution_count": 22,
   "id": "56b6fadb",
   "metadata": {},
   "outputs": [
    {
     "data": {
      "image/png": "[encoded data removed]",
      "text/plain": [
       "<Figure size 640x480 with 2 Axes>"
      ]
     },
     "metadata": {},
     "output_type": "display_data"
    }
   ],
   "source": [
    "cm = confusion_matrix(ytest, ypred)\n",
    "#Plot the confusion matrix.\n",
    "sns.heatmap(cm,\n",
    "            annot=True,\n",
    "            fmt='g',\n",
    "            xticklabels=['brown_spot','healthyt','leaf_scald'],\n",
    "            yticklabels=['brown_spot','healthyt','leaf_scald'])\n",
    "plt.ylabel('Prediction',fontsize=13)\n",
    "plt.xlabel('Actual',fontsize=13)\n",
    "plt.title('Confusion Matrix',fontsize=17)\n",
    "plt.show()"
   ]
  },
  {
   "cell_type": "code",
   "execution_count": null,
   "id": "66fd666f",
   "metadata": {},
   "outputs": [],
   "source": []
  }
 ],
 "metadata": {
  "kernelspec": {
   "display_name": "Python 3",
   "language": "python",
   "name": "python3"
  },
  "language_info": {
   "codemirror_mode": {
    "name": "ipython",
    "version": 3
   },
   "file_extension": ".py",
   "mimetype": "text/x-python",
   "name": "python",
   "nbconvert_exporter": "python",
   "pygments_lexer": "ipython3",
   "version": "3.8.8"
  }
 },
 "nbformat": 4,
 "nbformat_minor": 5
}
